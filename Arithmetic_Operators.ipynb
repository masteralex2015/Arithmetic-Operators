{
  "nbformat": 4,
  "nbformat_minor": 0,
  "metadata": {
    "colab": {
      "name": "Arithmetic Operators",
      "provenance": [],
      "authorship_tag": "ABX9TyNiel9oayY7OC0vOSxs3DMF",
      "include_colab_link": true
    },
    "kernelspec": {
      "name": "python3",
      "display_name": "Python 3"
    },
    "language_info": {
      "name": "python"
    }
  },
  "cells": [
    {
      "cell_type": "markdown",
      "metadata": {
        "id": "view-in-github",
        "colab_type": "text"
      },
      "source": [
        "<a href=\"https://colab.research.google.com/github/masteralex2015/Arithmetic-Operators/blob/main/Arithmetic_Operators.ipynb\" target=\"_parent\"><img src=\"https://colab.research.google.com/assets/colab-badge.svg\" alt=\"Open In Colab\"/></a>"
      ]
    },
    {
      "cell_type": "code",
      "metadata": {
        "colab": {
          "base_uri": "https://localhost:8080/"
        },
        "id": "eIg3aPVzBKE8",
        "outputId": "dadba7c7-9613-4ef5-84fb-8f22dbde0d70"
      },
      "source": [
        "a = int(input())\n",
        "b = int(input())\n",
        "x = a + b \n",
        "y = a - b \n",
        "z = a * b\n",
        "print(x)\n",
        "print(y)\n",
        "print(z)"
      ],
      "execution_count": null,
      "outputs": [
        {
          "output_type": "stream",
          "text": [
            "5\n",
            "5\n",
            "10\n",
            "0\n",
            "25\n"
          ],
          "name": "stdout"
        }
      ]
    },
    {
      "cell_type": "code",
      "metadata": {
        "colab": {
          "base_uri": "https://localhost:8080/"
        },
        "id": "o8E5Gg93Wslr",
        "outputId": "ed81e47b-3ec7-4be3-9df9-f8ac952532c5"
      },
      "source": [
        "if __name__ == '__main__':\n",
        "    a = int(input())\n",
        "    b = int(input())\n",
        "    if a >= 1 and a <= 10**10 and b >= 1 and b <= 10**10:5\n",
        "      print(a + b)\n",
        "      print(a - b)\n",
        "      print(a * b)\n",
        "    else:\n",
        "      print (\"invalid number \")\n"
      ],
      "execution_count": null,
      "outputs": [
        {
          "output_type": "stream",
          "text": [
            "5\n",
            "5\n",
            "10\n",
            "0\n",
            "25\n"
          ],
          "name": "stdout"
        }
      ]
    },
    {
      "cell_type": "code",
      "metadata": {
        "colab": {
          "base_uri": "https://localhost:8080/"
        },
        "id": "-Z62efHcacah",
        "outputId": "a24ac8d6-fd0c-42c0-c9e6-b1449c6d3765"
      },
      "source": [
        "minValue = 10\n",
        "maxValue = 50\n",
        "\n",
        "s = input(\"input your number \")\n",
        "try:\n",
        "  n = int(s)\n",
        "  print(s)\n",
        "  if (minValue > n or maxValue < n):\n",
        "    print(\"invalid number\")\n",
        "  else:\n",
        "    print(\"valid number\")\n",
        "\n",
        "except:\n",
        "    print(\"call the coder\")\n",
        "\n"
      ],
      "execution_count": null,
      "outputs": [
        {
          "output_type": "stream",
          "text": [
            "input your number 50\n",
            "50\n",
            "yeess\n"
          ],
          "name": "stdout"
        }
      ]
    },
    {
      "cell_type": "code",
      "metadata": {
        "colab": {
          "base_uri": "https://localhost:8080/"
        },
        "id": "wt1Cf0tzkvSV",
        "outputId": "1944ad68-0b26-4820-a684-bdba61cf5108"
      },
      "source": [
        "if __name__ == '__main__':\n",
        "    a = int(input())\n",
        "    b = int(input())\n",
        "    print(a//b)\n",
        "    print(a/b)"
      ],
      "execution_count": null,
      "outputs": [
        {
          "output_type": "stream",
          "text": [
            "4\n",
            "3\n",
            "1\n",
            "1.3333333333333333\n"
          ],
          "name": "stdout"
        }
      ]
    }
  ]
}